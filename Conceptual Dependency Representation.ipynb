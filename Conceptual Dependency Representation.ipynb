{
 "cells": [
  {
   "cell_type": "markdown",
   "metadata": {},
   "source": [
    "### Conceptual Dependency Representation"
   ]
  },
  {
   "cell_type": "code",
   "execution_count": null,
   "metadata": {},
   "outputs": [],
   "source": []
  },
  {
   "cell_type": "code",
   "execution_count": null,
   "metadata": {},
   "outputs": [],
   "source": []
  },
  {
   "cell_type": "code",
   "execution_count": null,
   "metadata": {},
   "outputs": [],
   "source": []
  },
  {
   "cell_type": "code",
   "execution_count": 1,
   "metadata": {},
   "outputs": [
    {
     "name": "stdout",
     "output_type": "stream",
     "text": [
      "Collecting spacy\n",
      "  Downloading https://files.pythonhosted.org/packages/b6/20/31865b2f773d10c82033cdde6bdaf28b0217897db6d6e2936887e36f17a3/spacy-3.8.0.tar.gz (1.3MB)\n",
      "  Installing build dependencies: started\n",
      "  Installing build dependencies: finished with status 'error'\n",
      "  Complete output from command D:\\Anaconda\\python.exe -m pip install --ignore-installed --no-user --prefix C:\\Users\\GAYATR~1\\AppData\\Local\\Temp\\pip-build-env-_z91czal --no-warn-script-location --no-binary :none: --only-binary :none: -i https://pypi.org/simple -- setuptools cython>=0.25,<3.0 cymem>=2.0.2,<2.1.0 preshed>=3.0.2,<3.1.0 murmurhash>=0.28.0,<1.1.0 thinc>=8.3.0,<8.4.0 \"numpy>=2.0.0,<2.1.0; python_version < '3.9'\" \"numpy>=2.0.0,<2.1.0; python_version >= '3.9'\":\n",
      "  Ignoring numpy: markers 'python_version >= \"3.9\"' don't match your environment\n",
      "  Collecting setuptools\n",
      "    Using cached https://files.pythonhosted.org/packages/c7/42/be1c7bbdd83e1bfb160c94b9cafd8e25efc7400346cf7ccdbdb452c467fa/setuptools-68.0.0-py3-none-any.whl\n",
      "  Collecting cython<3.0,>=0.25\n",
      "    Downloading https://files.pythonhosted.org/packages/7e/26/9d8de10005fedb1eceabe713348d43bae1dbab1786042ca0751a2e2b0f8c/Cython-0.29.37-py2.py3-none-any.whl (989kB)\n",
      "  Collecting cymem<2.1.0,>=2.0.2\n",
      "    Downloading https://files.pythonhosted.org/packages/83/73/f47bd6ea9e5722967fc8e6e73eb64037dd2a8aff256283f2331c0b76014c/cymem-2.0.8-cp37-cp37m-win_amd64.whl\n",
      "  Collecting preshed<3.1.0,>=3.0.2\n",
      "    Downloading https://files.pythonhosted.org/packages/1b/1d/55e3bf8a13a13eb78bf81af78e307f881fcca8971a4a996c3369860ab0c5/preshed-3.0.9-cp37-cp37m-win_amd64.whl (122kB)\n",
      "  Collecting murmurhash<1.1.0,>=0.28.0\n",
      "    Downloading https://files.pythonhosted.org/packages/ca/64/e123b5e53c0ff92aa21cec9ba1cc7c1ba129332871733da9782f92bc2858/murmurhash-1.0.10-cp37-cp37m-win_amd64.whl\n",
      "  Collecting thinc<8.4.0,>=8.3.0\n",
      "    Downloading https://files.pythonhosted.org/packages/15/0a/250f7fa34632616bb4fc37decbc46ed09243bade708968dc869d8a4c144b/thinc-8.3.0.tar.gz (193kB)\n",
      "    Installing build dependencies: started\n",
      "    Installing build dependencies: finished with status 'error'\n",
      "    Complete output from command D:\\Anaconda\\python.exe -m pip install --ignore-installed --no-user --prefix C:\\Users\\GAYATR~1\\AppData\\Local\\Temp\\pip-build-env-9wcjt3na --no-warn-script-location --no-binary :none: --only-binary :none: -i https://pypi.org/simple -- setuptools cython>=0.25,<3.0 murmurhash>=1.0.2,<1.1.0 cymem>=2.0.2,<2.1.0 preshed>=3.0.2,<3.1.0 blis>=1.0.0,<1.1.0 \"numpy>=2.0.0,<2.1.0; python_version < '3.9'\" \"numpy>=2.0.0,<2.1.0; python_version >= '3.9'\":\n",
      "    Ignoring numpy: markers 'python_version >= \"3.9\"' don't match your environment\n",
      "    Collecting setuptools\n",
      "      Using cached https://files.pythonhosted.org/packages/c7/42/be1c7bbdd83e1bfb160c94b9cafd8e25efc7400346cf7ccdbdb452c467fa/setuptools-68.0.0-py3-none-any.whl\n",
      "    Collecting cython<3.0,>=0.25\n",
      "      Using cached https://files.pythonhosted.org/packages/7e/26/9d8de10005fedb1eceabe713348d43bae1dbab1786042ca0751a2e2b0f8c/Cython-0.29.37-py2.py3-none-any.whl\n",
      "    Collecting murmurhash<1.1.0,>=1.0.2\n",
      "      Using cached https://files.pythonhosted.org/packages/ca/64/e123b5e53c0ff92aa21cec9ba1cc7c1ba129332871733da9782f92bc2858/murmurhash-1.0.10-cp37-cp37m-win_amd64.whl\n",
      "    Collecting cymem<2.1.0,>=2.0.2\n",
      "      Using cached https://files.pythonhosted.org/packages/83/73/f47bd6ea9e5722967fc8e6e73eb64037dd2a8aff256283f2331c0b76014c/cymem-2.0.8-cp37-cp37m-win_amd64.whl\n",
      "    Collecting preshed<3.1.0,>=3.0.2\n",
      "      Using cached https://files.pythonhosted.org/packages/1b/1d/55e3bf8a13a13eb78bf81af78e307f881fcca8971a4a996c3369860ab0c5/preshed-3.0.9-cp37-cp37m-win_amd64.whl\n",
      "    Collecting blis<1.1.0,>=1.0.0\n",
      "      Downloading https://files.pythonhosted.org/packages/bd/e4/741f20c9b767330e2605d4c71a775303cb6a9c72764b8802232fe6c7afad/blis-1.0.1.tar.gz (3.6MB)\n",
      "      Installing build dependencies: started\n",
      "      Installing build dependencies: finished with status 'error'\n",
      "      Complete output from command D:\\Anaconda\\python.exe -m pip install --ignore-installed --no-user --prefix C:\\Users\\GAYATR~1\\AppData\\Local\\Temp\\pip-build-env-8ocry62r --no-warn-script-location --no-binary :none: --only-binary :none: -i https://pypi.org/simple -- setuptools cython>=0.25 numpy>=2.0.0,<3.0.0:\n",
      "      Collecting setuptools\n",
      "        Using cached https://files.pythonhosted.org/packages/c7/42/be1c7bbdd83e1bfb160c94b9cafd8e25efc7400346cf7ccdbdb452c467fa/setuptools-68.0.0-py3-none-any.whl\n",
      "      Collecting cython>=0.25\n",
      "        Downloading https://files.pythonhosted.org/packages/31/3b/db8c7867df600f6ef6a9231eba46e20cb9881e80d39a4af884e2302229ed/Cython-3.0.11-cp37-cp37m-win_amd64.whl (2.7MB)\n",
      "      Collecting numpy<3.0.0,>=2.0.0\n",
      "        Could not find a version that satisfies the requirement numpy<3.0.0,>=2.0.0 (from versions: 1.3.0, 1.4.1, 1.5.0, 1.5.1, 1.6.0, 1.6.1, 1.6.2, 1.7.0, 1.7.1, 1.7.2, 1.8.0, 1.8.1, 1.8.2, 1.9.0, 1.9.1, 1.9.2, 1.9.3, 1.10.0.post2, 1.10.1, 1.10.2, 1.10.4, 1.11.0, 1.11.1, 1.11.2, 1.11.3, 1.12.0, 1.12.1, 1.13.0, 1.13.1, 1.13.3, 1.14.0, 1.14.1, 1.14.2, 1.14.3, 1.14.4, 1.14.5, 1.14.6, 1.15.0, 1.15.1, 1.15.2, 1.15.3, 1.15.4, 1.16.0, 1.16.1, 1.16.2, 1.16.3, 1.16.4, 1.16.5, 1.16.6, 1.17.0, 1.17.1, 1.17.2, 1.17.3, 1.17.4, 1.17.5, 1.18.0, 1.18.1, 1.18.2, 1.18.3, 1.18.4, 1.18.5, 1.19.0, 1.19.1, 1.19.2, 1.19.3, 1.19.4, 1.19.5, 1.20.0, 1.20.1, 1.20.2, 1.20.3, 1.21.0, 1.21.1, 1.21.2, 1.21.3, 1.21.4, 1.21.5, 1.21.6)\n",
      "      No matching distribution found for numpy<3.0.0,>=2.0.0\n",
      "  \n",
      "      ----------------------------------------\n",
      "    Command \"D:\\Anaconda\\python.exe -m pip install --ignore-installed --no-user --prefix C:\\Users\\GAYATR~1\\AppData\\Local\\Temp\\pip-build-env-8ocry62r --no-warn-script-location --no-binary :none: --only-binary :none: -i https://pypi.org/simple -- setuptools cython>=0.25 numpy>=2.0.0,<3.0.0\" failed with error code 1 in None\n",
      "  \n",
      "    ----------------------------------------\n",
      "  Command \"D:\\Anaconda\\python.exe -m pip install --ignore-installed --no-user --prefix C:\\Users\\GAYATR~1\\AppData\\Local\\Temp\\pip-build-env-9wcjt3na --no-warn-script-location --no-binary :none: --only-binary :none: -i https://pypi.org/simple -- setuptools cython>=0.25,<3.0 murmurhash>=1.0.2,<1.1.0 cymem>=2.0.2,<2.1.0 preshed>=3.0.2,<3.1.0 blis>=1.0.0,<1.1.0 \"numpy>=2.0.0,<2.1.0; python_version < '3.9'\" \"numpy>=2.0.0,<2.1.0; python_version >= '3.9'\"\" failed with error code 1 in None\n",
      "  \n",
      "  ----------------------------------------\n"
     ]
    },
    {
     "name": "stderr",
     "output_type": "stream",
     "text": [
      "Command \"D:\\Anaconda\\python.exe -m pip install --ignore-installed --no-user --prefix C:\\Users\\GAYATR~1\\AppData\\Local\\Temp\\pip-build-env-_z91czal --no-warn-script-location --no-binary :none: --only-binary :none: -i https://pypi.org/simple -- setuptools cython>=0.25,<3.0 cymem>=2.0.2,<2.1.0 preshed>=3.0.2,<3.1.0 murmurhash>=0.28.0,<1.1.0 thinc>=8.3.0,<8.4.0 \"numpy>=2.0.0,<2.1.0; python_version < '3.9'\" \"numpy>=2.0.0,<2.1.0; python_version >= '3.9'\"\" failed with error code 1 in None\n"
     ]
    }
   ],
   "source": [
    "!pip install spacy\n",
    "\n"
   ]
  },
  {
   "cell_type": "code",
   "execution_count": null,
   "metadata": {},
   "outputs": [],
   "source": []
  },
  {
   "cell_type": "code",
   "execution_count": 2,
   "metadata": {},
   "outputs": [
    {
     "ename": "ModuleNotFoundError",
     "evalue": "No module named 'spacy'",
     "output_type": "error",
     "traceback": [
      "\u001b[1;31m---------------------------------------------------------------------------\u001b[0m",
      "\u001b[1;31mModuleNotFoundError\u001b[0m                       Traceback (most recent call last)",
      "\u001b[1;32m<ipython-input-2-6d8a00d9cc8d>\u001b[0m in \u001b[0;36m<module>\u001b[1;34m\u001b[0m\n\u001b[1;32m----> 1\u001b[1;33m \u001b[1;32mimport\u001b[0m \u001b[0mspacy\u001b[0m\u001b[1;33m\u001b[0m\u001b[1;33m\u001b[0m\u001b[0m\n\u001b[0m\u001b[0;32m      2\u001b[0m \u001b[1;33m\u001b[0m\u001b[0m\n\u001b[0;32m      3\u001b[0m \u001b[1;31m# Load the language model\u001b[0m\u001b[1;33m\u001b[0m\u001b[1;33m\u001b[0m\u001b[1;33m\u001b[0m\u001b[0m\n\u001b[0;32m      4\u001b[0m \u001b[0mnlp\u001b[0m \u001b[1;33m=\u001b[0m \u001b[0mspacy\u001b[0m\u001b[1;33m.\u001b[0m\u001b[0mload\u001b[0m\u001b[1;33m(\u001b[0m\u001b[1;34m\"en_core_web_sm\"\u001b[0m\u001b[1;33m)\u001b[0m\u001b[1;33m\u001b[0m\u001b[1;33m\u001b[0m\u001b[0m\n\u001b[0;32m      5\u001b[0m \u001b[1;33m\u001b[0m\u001b[0m\n",
      "\u001b[1;31mModuleNotFoundError\u001b[0m: No module named 'spacy'"
     ]
    }
   ],
   "source": [
    "import spacy\n",
    "\n",
    "# Load the language model\n",
    "nlp = spacy.load(\"en_core_web_sm\")\n",
    "\n",
    "def sentence_to_cd(sentence):\n",
    "    # Parse the sentence\n",
    "    doc = nlp(sentence)\n",
    "    \n",
    "    cd_structure = {\n",
    "        \"ACT\": None,\n",
    "        \"AGENT\": None,\n",
    "        \"OBJECT\": None,\n",
    "        \"RECIPIENT\": None,\n",
    "        \"FROM\": None,\n",
    "        \"TO\": None\n",
    "    }\n",
    "\n",
    "    # Extract the main verb (action)\n",
    "    for token in doc:\n",
    "        if token.dep_ == \"ROOT\":\n",
    "            cd_structure[\"ACT\"] = token.lemma_\n",
    "\n",
    "    # Extract the subject (agent) and object\n",
    "    for token in doc:\n",
    "        if token.dep_ == \"nsubj\":\n",
    "            cd_structure[\"AGENT\"] = token.text\n",
    "        elif token.dep_ == \"dobj\":\n",
    "            cd_structure[\"OBJECT\"] = token.text\n",
    "    \n",
    "    # Extract the recipient (if any)\n",
    "    for token in doc:\n",
    "        if token.dep_ == \"pobj\":\n",
    "            cd_structure[\"RECIPIENT\"] = token.text\n",
    "\n",
    "    # Set FROM and TO\n",
    "    if cd_structure[\"ACT\"] == \"give\":\n",
    "        cd_structure[\"FROM\"] = cd_structure[\"AGENT\"]\n",
    "        cd_structure[\"TO\"] = cd_structure[\"RECIPIENT\"]\n",
    "\n",
    "    return cd_structure\n",
    "\n",
    "# Test the function\n",
    "#sentence = \"John gave a book to Mary.\"\n",
    "sentence = \"I give pencil to her\"\n",
    "\n",
    "cd_representation = sentence_to_cd(sentence)\n",
    "print(cd_representation)\n"
   ]
  },
  {
   "cell_type": "code",
   "execution_count": null,
   "metadata": {},
   "outputs": [],
   "source": []
  }
 ],
 "metadata": {
  "kernelspec": {
   "display_name": "Python 3",
   "language": "python",
   "name": "python3"
  },
  "language_info": {
   "codemirror_mode": {
    "name": "ipython",
    "version": 3
   },
   "file_extension": ".py",
   "mimetype": "text/x-python",
   "name": "python",
   "nbconvert_exporter": "python",
   "pygments_lexer": "ipython3",
   "version": "3.7.1"
  }
 },
 "nbformat": 4,
 "nbformat_minor": 5
}

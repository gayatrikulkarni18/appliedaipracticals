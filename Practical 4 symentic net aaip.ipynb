{
 "cells": [
  {
   "cell_type": "code",
   "execution_count": null,
   "metadata": {},
   "outputs": [],
   "source": []
  },
  {
   "cell_type": "code",
   "execution_count": null,
   "metadata": {},
   "outputs": [],
   "source": [
    "To design and implement a semantic network in Python that models relationships between concepts in a domain."
   ]
  },
  {
   "cell_type": "code",
   "execution_count": 1,
   "metadata": {},
   "outputs": [
    {
     "name": "stdout",
     "output_type": "stream",
     "text": [
      "Concept: Animal\n",
      "Concept: Bird\n",
      "  is_a -> Animal\n",
      "  has_a -> Wings\n",
      "Concept: Mammal\n",
      "  is_a -> Animal\n",
      "Concept: Penguin\n",
      "  is_a -> Bird\n",
      "Concept: Canary\n",
      "  is_a -> Bird\n",
      "  has_a -> Yellow_Feathers\n",
      "Concept: Wings\n",
      "Concept: Yellow_Feathers\n",
      "Gayatri Kulkarni-53004230002\n"
     ]
    }
   ],
   "source": [
    "class SemanticNetwork:\n",
    "    def __init__(self):\n",
    "        self.network = {}\n",
    "\n",
    "    def add_concept(self, concept):\n",
    "        if concept not in self.network:\n",
    "            self.network[concept] = {'is_a': [], 'has_a': []}\n",
    "\n",
    "    def add_relation(self, relation, concept1, concept2):\n",
    "        self.add_concept(concept1)\n",
    "        self.add_concept(concept2)\n",
    "        self.network[concept1][relation].append(concept2)\n",
    "\n",
    "    def get_relations(self, concept):\n",
    "        return self.network.get(concept, {})\n",
    "\n",
    "    def display_network(self):\n",
    "        for concept, relations in self.network.items():\n",
    "            print(f\"Concept: {concept}\")\n",
    "            for relation, related_concepts in relations.items():\n",
    "                for related_concept in related_concepts:\n",
    "                    print(f\"  {relation} -> {related_concept}\")\n",
    "\n",
    "if __name__ == \"__main__\":\n",
    "    sn = SemanticNetwork()\n",
    "\n",
    "    # Adding concepts and relations\n",
    "    sn.add_concept(\"Animal\")\n",
    "    sn.add_concept(\"Bird\")\n",
    "    sn.add_concept(\"Mammal\")\n",
    "    sn.add_concept(\"Penguin\")\n",
    "    sn.add_concept(\"Canary\")\n",
    "\n",
    "    sn.add_relation(\"is_a\", \"Bird\", \"Animal\")\n",
    "    sn.add_relation(\"is_a\", \"Mammal\", \"Animal\")\n",
    "    sn.add_relation(\"is_a\", \"Penguin\", \"Bird\")\n",
    "    sn.add_relation(\"is_a\", \"Canary\", \"Bird\")\n",
    "    sn.add_relation(\"has_a\", \"Bird\", \"Wings\")\n",
    "    sn.add_relation(\"has_a\", \"Canary\", \"Yellow_Feathers\")\n",
    "\n",
    "    # Displaying the network\n",
    "    sn.display_network()\n",
    "print('Gayatri Kulkarni-53004230002')"
   ]
  },
  {
   "cell_type": "code",
   "execution_count": null,
   "metadata": {},
   "outputs": [],
   "source": []
  }
 ],
 "metadata": {
  "kernelspec": {
   "display_name": "Python 3",
   "language": "python",
   "name": "python3"
  },
  "language_info": {
   "codemirror_mode": {
    "name": "ipython",
    "version": 3
   },
   "file_extension": ".py",
   "mimetype": "text/x-python",
   "name": "python",
   "nbconvert_exporter": "python",
   "pygments_lexer": "ipython3",
   "version": "3.7.1"
  }
 },
 "nbformat": 4,
 "nbformat_minor": 5
}

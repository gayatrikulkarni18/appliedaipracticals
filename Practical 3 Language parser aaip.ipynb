{
 "cells": [
  {
   "cell_type": "code",
   "execution_count": null,
   "metadata": {},
   "outputs": [],
   "source": []
  },
  {
   "cell_type": "code",
   "execution_count": null,
   "metadata": {},
   "outputs": [],
   "source": []
  },
  {
   "cell_type": "code",
   "execution_count": 4,
   "metadata": {},
   "outputs": [
    {
     "name": "stdout",
     "output_type": "stream",
     "text": [
      "Result of '(8 - 9) * 2' is -2\n",
      "Gayatri Kulkarni-53004230002\n"
     ]
    }
   ],
   "source": [
    "class SimpleParser:\n",
    "    def __init__(self, expr):\n",
    "        self.tokens = expr.replace('(', ' ( ').replace(')', ' ) ').split()\n",
    "        self.pos = 0\n",
    "\n",
    "    def parse(self):\n",
    "        return self.expr()\n",
    "\n",
    "    def advance(self):\n",
    "        self.pos += 1\n",
    "\n",
    "    def current_token(self):\n",
    "        return self.tokens[self.pos] if self.pos < len(self.tokens) else None\n",
    "\n",
    "    def expr(self):\n",
    "        result = self.term()\n",
    "        while self.current_token() in ('+', '-'):\n",
    "            if self.current_token() == '+':\n",
    "                self.advance()\n",
    "                result += self.term()\n",
    "            elif self.current_token() == '-':\n",
    "                self.advance()\n",
    "                result -= self.term()\n",
    "        return result\n",
    "\n",
    "    def term(self):\n",
    "        result = self.factor()\n",
    "        while self.current_token() in ('*', '/'):\n",
    "            if self.current_token() == '*':\n",
    "                self.advance()\n",
    "                result *= self.factor()\n",
    "            elif self.current_token() == '/':\n",
    "                self.advance()\n",
    "                result /= self.factor()\n",
    "        return result\n",
    "\n",
    "    def factor(self):\n",
    "        token = self.current_token()\n",
    "        if token.isdigit():\n",
    "            self.advance()\n",
    "            return int(token)\n",
    "        elif token == '(':\n",
    "            self.advance()\n",
    "            result = self.expr()\n",
    "            self.advance()  # skip ')'\n",
    "            return result\n",
    "        raise ValueError(\"Invalid syntax\")\n",
    "\n",
    "if __name__ == \"__main__\":\n",
    "    expr = \"(8 - 9) * 2\"\n",
    "    parser = SimpleParser(expr)\n",
    "    result = parser.parse()\n",
    "    print(f\"Result of '{expr}' is {result}\")\n",
    "print('Gayatri Kulkarni-53004230002')"
   ]
  },
  {
   "cell_type": "code",
   "execution_count": null,
   "metadata": {},
   "outputs": [],
   "source": []
  }
 ],
 "metadata": {
  "kernelspec": {
   "display_name": "Python 3",
   "language": "python",
   "name": "python3"
  },
  "language_info": {
   "codemirror_mode": {
    "name": "ipython",
    "version": 3
   },
   "file_extension": ".py",
   "mimetype": "text/x-python",
   "name": "python",
   "nbconvert_exporter": "python",
   "pygments_lexer": "ipython3",
   "version": "3.7.1"
  }
 },
 "nbformat": 4,
 "nbformat_minor": 5
}

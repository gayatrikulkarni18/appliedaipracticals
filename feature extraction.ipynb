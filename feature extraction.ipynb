{
 "cells": [
  {
   "cell_type": "code",
   "execution_count": 4,
   "id": "3930295e-8175-4e06-a1d0-529014214388",
   "metadata": {},
   "outputs": [
    {
     "name": "stdout",
     "output_type": "stream",
     "text": [
      "Test Data:\n",
      "Message: Are we still meeting at the coffee shop today?, Actual: spam, Predicted: ham\n",
      "Message: Exclusive deal just for you! Buy now and get 50% off!, Actual: ham, Predicted: ham\n",
      "Message: Can you send me the report by end of the day?, Actual: ham, Predicted: ham\n",
      "\n",
      "Accuracy: 0.67\n",
      "              precision    recall  f1-score   support\n",
      "\n",
      "         ham       0.67      1.00      0.80         2\n",
      "        spam       0.00      0.00      0.00         1\n",
      "\n",
      "    accuracy                           0.67         3\n",
      "   macro avg       0.33      0.50      0.40         3\n",
      "weighted avg       0.44      0.67      0.53         3\n",
      "\n",
      "Gayatri Kulkarni -53004230002\n"
     ]
    },
    {
     "name": "stderr",
     "output_type": "stream",
     "text": [
      "C:\\Users\\Gayatri kulkarni\\AppData\\Roaming\\Python\\Python312\\site-packages\\sklearn\\metrics\\_classification.py:1531: UndefinedMetricWarning: Precision is ill-defined and being set to 0.0 in labels with no predicted samples. Use `zero_division` parameter to control this behavior.\n",
      "  _warn_prf(average, modifier, f\"{metric.capitalize()} is\", len(result))\n",
      "C:\\Users\\Gayatri kulkarni\\AppData\\Roaming\\Python\\Python312\\site-packages\\sklearn\\metrics\\_classification.py:1531: UndefinedMetricWarning: Precision is ill-defined and being set to 0.0 in labels with no predicted samples. Use `zero_division` parameter to control this behavior.\n",
      "  _warn_prf(average, modifier, f\"{metric.capitalize()} is\", len(result))\n",
      "C:\\Users\\Gayatri kulkarni\\AppData\\Roaming\\Python\\Python312\\site-packages\\sklearn\\metrics\\_classification.py:1531: UndefinedMetricWarning: Precision is ill-defined and being set to 0.0 in labels with no predicted samples. Use `zero_division` parameter to control this behavior.\n",
      "  _warn_prf(average, modifier, f\"{metric.capitalize()} is\", len(result))\n"
     ]
    }
   ],
   "source": [
    "from sklearn.feature_extraction.text import CountVectorizer\n",
    "from sklearn.naive_bayes import MultinomialNB\n",
    "from sklearn.model_selection import train_test_split\n",
    "from sklearn.metrics import accuracy_score, classification_report\n",
    "\n",
    "sms_data = [\n",
    "    \"Free entry in 2 a weekly competition to win FA Cup final tickets\",\n",
    "    \"Hey, I will call you later. Don't forget to bring the document.\",\n",
    "    \"Congratulations! You've won a free cruise to the Bahamas\",\n",
    "    \"Hi there, can we meet tomorrow for lunch?\",\n",
    "    \"URGENT! Your mobile number has won a $2000 prize!\",\n",
    "    \"Reminder: Your appointment with the dentist is at 3 PM today.\",\n",
    "    \"You have won a lottery! Claim your prize now by calling us.\",\n",
    "    \"Are we still meeting at the coffee shop today?\",\n",
    "    \"Exclusive deal just for you! Buy now and get 50% off!\",\n",
    "    \"Can you send me the report by end of the day?\"\n",
    "]\n",
    "\n",
    "sms_labels = [\n",
    "    \"spam\", \"ham\", \"spam\", \"ham\", \"spam\",\n",
    "    \"ham\", \"spam\", \"ham\", \"spam\", \"ham\"\n",
    "]\n",
    "vectorizer = CountVectorizer()\n",
    "X = vectorizer.fit_transform(sms_data)\n",
    "\n",
    "X_train, X_test, y_train, y_test = train_test_split(X, sms_labels, test_size=0.3, random_state=42)\n",
    "\n",
    "classifier = MultinomialNB()\n",
    "classifier.fit(X_train, y_train)\n",
    "\n",
    "y_pred = classifier.predict(X_test)\n",
    "\n",
    "accuracy = accuracy_score(y_test,y_pred)\n",
    "report = classification_report(y_test, y_pred)\n",
    "\n",
    "print(\"Test Data:\")\n",
    "for doc, actual, predicted in zip(sms_data[len(sms_data) - len(y_test):], y_test, y_pred):\n",
    "    print(f\"Message: {doc}, Actual: {actual}, Predicted: {predicted}\")\n",
    "    \n",
    "print(f\"\\nAccuracy: {accuracy:.2f}\")\n",
    "print(report)\n",
    "print(\"Gayatri Kulkarni -53004230002\")"
   ]
  },
  {
   "cell_type": "code",
   "execution_count": null,
   "id": "bc902d4b-1dc8-4e35-8958-e2ae6db618f6",
   "metadata": {},
   "outputs": [],
   "source": []
  }
 ],
 "metadata": {
  "kernelspec": {
   "display_name": "Python 3 (ipykernel)",
   "language": "python",
   "name": "python3"
  },
  "language_info": {
   "codemirror_mode": {
    "name": "ipython",
    "version": 3
   },
   "file_extension": ".py",
   "mimetype": "text/x-python",
   "name": "python",
   "nbconvert_exporter": "python",
   "pygments_lexer": "ipython3",
   "version": "3.12.4"
  }
 },
 "nbformat": 4,
 "nbformat_minor": 5
}

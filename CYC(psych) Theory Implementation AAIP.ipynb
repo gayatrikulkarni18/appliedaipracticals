{
 "cells": [
  {
   "cell_type": "code",
   "execution_count": 1,
   "id": "d5b03bef",
   "metadata": {},
   "outputs": [],
   "source": [
    "class KnowledgeBase:\n",
    "    def __init__(self):\n",
    "        self.concepts = {}\n",
    "        self.relationships = []\n",
    "\n",
    "    def add_concept(self, category, item):\n",
    "        if category not in self.concepts:\n",
    "            self.concepts[category] = []\n",
    "        self.concepts[category].append(item)\n",
    "\n",
    "    def add_relationship(self, subject, relation, obj):\n",
    "        self.relationships.append((subject, relation, obj))\n",
    "\n",
    "    def infer(self):\n",
    "        inferences = []\n",
    "        for subj, rel, obj in self.relationships:\n",
    "            if rel == \"should be taken after\":\n",
    "                for s, r, o in self.relationships:\n",
    "                    if r == \"can cause\" and o == \"Stomach Upset\":\n",
    "                        inferences.append(f\"{subj} should be taken after {obj} to avoid Stomach Upset\")\n",
    "        return inferences"
   ]
  },
  {
   "cell_type": "code",
   "execution_count": 2,
   "id": "9bb6ac6b",
   "metadata": {},
   "outputs": [
    {
     "name": "stdout",
     "output_type": "stream",
     "text": [
      "Medication should be taken after Breakfast to avoid Stomach Upset\n"
     ]
    }
   ],
   "source": [
    "# Create the knowledge base\n",
    "kb = KnowledgeBase()\n",
    "\n",
    "# Add concepts\n",
    "kb.add_concept(\"Person\", \"Mrs. Smith\")\n",
    "kb.add_concept(\"Object\", \"Medication\")\n",
    "kb.add_concept(\"Event\", \"Breakfast\")\n",
    "kb.add_concept(\"HealthCondition\", \"Stomach Upset\")\n",
    "\n",
    "# Add relationships\n",
    "kb.add_relationship(\"Mrs. Smith\", \"takes\", \"Medication\")\n",
    "kb.add_relationship(\"Medication\", \"should be taken after\", \"Breakfast\")\n",
    "kb.add_relationship(\"Taking medication without food\", \"can cause\", \"Stomach Upset\")\n",
    "\n",
    "# Perform inference\n",
    "inferences = kb.infer()\n",
    "\n",
    "for inference in inferences:\n",
    "    print(inference)\n"
   ]
  },
  {
   "cell_type": "code",
   "execution_count": 3,
   "id": "e3c7871a",
   "metadata": {},
   "outputs": [
    {
     "ename": "ModuleNotFoundError",
     "evalue": "No module named 'spacy'",
     "output_type": "error",
     "traceback": [
      "\u001b[1;31m---------------------------------------------------------------------------\u001b[0m",
      "\u001b[1;31mModuleNotFoundError\u001b[0m                       Traceback (most recent call last)",
      "Cell \u001b[1;32mIn[3], line 1\u001b[0m\n\u001b[1;32m----> 1\u001b[0m \u001b[38;5;28;01mimport\u001b[39;00m \u001b[38;5;21;01mspacy\u001b[39;00m\n",
      "\u001b[1;31mModuleNotFoundError\u001b[0m: No module named 'spacy'"
     ]
    }
   ],
   "source": [
    "import spacy"
   ]
  },
  {
   "cell_type": "code",
   "execution_count": null,
   "id": "c8ff543d",
   "metadata": {},
   "outputs": [],
   "source": [
    "!pip install spacy"
   ]
  },
  {
   "cell_type": "code",
   "execution_count": null,
   "id": "3a1dc613",
   "metadata": {},
   "outputs": [],
   "source": []
  }
 ],
 "metadata": {
  "kernelspec": {
   "display_name": "Python 3 (ipykernel)",
   "language": "python",
   "name": "python3"
  },
  "language_info": {
   "codemirror_mode": {
    "name": "ipython",
    "version": 3
   },
   "file_extension": ".py",
   "mimetype": "text/x-python",
   "name": "python",
   "nbconvert_exporter": "python",
   "pygments_lexer": "ipython3",
   "version": "3.11.5"
  }
 },
 "nbformat": 4,
 "nbformat_minor": 5
}

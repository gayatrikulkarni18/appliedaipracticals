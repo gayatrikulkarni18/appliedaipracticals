{
 "cells": [
  {
   "cell_type": "code",
   "execution_count": 2,
   "id": "f5c48a73-1bb9-401e-836e-53857ebfb3a8",
   "metadata": {},
   "outputs": [
    {
     "name": "stdout",
     "output_type": "stream",
     "text": [
      "Final output after training:\n",
      "[[0.05322146]\n",
      " [0.95171535]\n",
      " [0.95160449]\n",
      " [0.05175396]]\n",
      "Gayatri Kulkarni-53004230002\n"
     ]
    }
   ],
   "source": [
    "import numpy as np\n",
    "\n",
    "# Sigmoid activation function\n",
    "def sigmoid(x):\n",
    "    return 1 / (1 + np.exp(-x))\n",
    "\n",
    "# Derivative of sigmoid\n",
    "def sigmoid_derivative(x):\n",
    "    return x * (1 - x)\n",
    "\n",
    "# Initialize parameters\n",
    "np.random.seed(42)\n",
    "input_size = 2\n",
    "hidden_size = 2\n",
    "output_size = 1\n",
    "\n",
    "W1 = np.random.rand(input_size, hidden_size)\n",
    "b1 = np.random.rand(hidden_size)\n",
    "W2 = np.random.rand(hidden_size, output_size)\n",
    "b2 = np.random.rand(output_size)\n",
    "\n",
    "# Training data (X) and labels (y)\n",
    "X = np.array([[0, 0], [0, 1], [1, 0], [1, 1]])\n",
    "y = np.array([[0], [1], [1], [0]])  # XOR problem\n",
    "\n",
    "# Training process\n",
    "learning_rate = 0.1\n",
    "epochs = 10000\n",
    "\n",
    "for epoch in range(epochs):\n",
    "    # Feedforward\n",
    "    z1 = np.dot(X, W1) + b1\n",
    "    A1 = sigmoid(z1)\n",
    "    z2 = np.dot(A1, W2) + b2\n",
    "    A2 = sigmoid(z2)\n",
    "   \n",
    "    # Backpropagation\n",
    "    error = y - A2\n",
    "    dA2 = error * sigmoid_derivative(A2)\n",
    "   \n",
    "    dW2 = np.dot(A1.T, dA2)\n",
    "    db2 = np.sum(dA2, axis=0)\n",
    "   \n",
    "    dA1 = np.dot(dA2, W2.T)\n",
    "    dZ1 = dA1 * sigmoid_derivative(A1)\n",
    "   \n",
    "    dW1 = np.dot(X.T, dZ1)\n",
    "    db1 = np.sum(dZ1, axis=0)\n",
    "   \n",
    "    # Update weights and biases\n",
    "    W2 += learning_rate * dW2\n",
    "    b2 += learning_rate * db2\n",
    "    W1 += learning_rate * dW1\n",
    "    b1 += learning_rate * db1\n",
    "\n",
    "# Output the final predictions\n",
    "print(\"Final output after training:\")\n",
    "print(A2)\n",
    "\n",
    "print('Gayatri Kulkarni-53004230002')"
   ]
  },
  {
   "cell_type": "code",
   "execution_count": null,
   "id": "0db880ba-c0c1-4aa5-95e1-7fe47e20f2b2",
   "metadata": {},
   "outputs": [],
   "source": []
  },
  {
   "cell_type": "code",
   "execution_count": null,
   "id": "02da3692-15f1-47a0-9f22-966f7ac5f8cf",
   "metadata": {},
   "outputs": [],
   "source": []
  }
 ],
 "metadata": {
  "kernelspec": {
   "display_name": "Python 3 (ipykernel)",
   "language": "python",
   "name": "python3"
  },
  "language_info": {
   "codemirror_mode": {
    "name": "ipython",
    "version": 3
   },
   "file_extension": ".py",
   "mimetype": "text/x-python",
   "name": "python",
   "nbconvert_exporter": "python",
   "pygments_lexer": "ipython3",
   "version": "3.12.4"
  }
 },
 "nbformat": 4,
 "nbformat_minor": 5
}

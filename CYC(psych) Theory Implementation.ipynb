{
 "cells": [
  {
   "cell_type": "code",
   "execution_count": null,
   "metadata": {},
   "outputs": [],
   "source": []
  },
  {
   "cell_type": "code",
   "execution_count": null,
   "metadata": {},
   "outputs": [],
   "source": []
  },
  {
   "cell_type": "code",
   "execution_count": 1,
   "metadata": {},
   "outputs": [],
   "source": [
    "class KnowledgeBase:\n",
    "    def __init__(self):\n",
    "        self.concepts = {}\n",
    "        self.relationships = []\n",
    "\n",
    "    def add_concept(self, category, item):\n",
    "        if category not in self.concepts:\n",
    "            self.concepts[category] = []\n",
    "        self.concepts[category].append(item)\n",
    "\n",
    "    def add_relationship(self, subject, relation, obj):\n",
    "        self.relationships.append((subject, relation, obj))\n",
    "\n",
    "    def infer(self):\n",
    "        inferences = []\n",
    "        for subj, rel, obj in self.relationships:\n",
    "            if rel == \"should be taken after\":\n",
    "                for s, r, o in self.relationships:\n",
    "                    if r == \"can cause\" and o == \"Stomach Upset\":\n",
    "                        inferences.append(f\"{subj} should be taken after {obj} to avoid Stomach Upset\")\n",
    "        return inferences\n"
   ]
  },
  {
   "cell_type": "code",
   "execution_count": 2,
   "metadata": {},
   "outputs": [
    {
     "name": "stdout",
     "output_type": "stream",
     "text": [
      "Medication should be taken after Breakfast to avoid Stomach Upset\n"
     ]
    }
   ],
   "source": [
    "\n",
    "# Create the knowledge base\n",
    "kb = KnowledgeBase()\n",
    "\n",
    "# Add concepts\n",
    "kb.add_concept(\"Person\", \"Mrs. Smith\")\n",
    "kb.add_concept(\"Object\", \"Medication\")\n",
    "kb.add_concept(\"Event\", \"Breakfast\")\n",
    "kb.add_concept(\"HealthCondition\", \"Stomach Upset\")\n",
    "\n",
    "# Add relationships\n",
    "kb.add_relationship(\"Mrs. Smith\", \"takes\", \"Medication\")\n",
    "kb.add_relationship(\"Medication\", \"should be taken after\", \"Breakfast\")\n",
    "kb.add_relationship(\"Taking medication without food\", \"can cause\", \"Stomach Upset\")\n",
    "\n",
    "# Perform inference\n",
    "inferences = kb.infer()\n",
    "\n",
    "for inference in inferences:\n",
    "    print(inference)\n"
   ]
  },
  {
   "cell_type": "code",
   "execution_count": null,
   "metadata": {},
   "outputs": [],
   "source": []
  },
  {
   "cell_type": "code",
   "execution_count": null,
   "metadata": {},
   "outputs": [],
   "source": []
  },
  {
   "cell_type": "code",
   "execution_count": 3,
   "metadata": {},
   "outputs": [],
   "source": [
    "import spacy"
   ]
  },
  {
   "cell_type": "code",
   "execution_count": 2,
   "metadata": {},
   "outputs": [
    {
     "ename": "ModuleNotFoundError",
     "evalue": "No module named 'spacy'",
     "output_type": "error",
     "traceback": [
      "\u001b[1;31m---------------------------------------------------------------------------\u001b[0m",
      "\u001b[1;31mModuleNotFoundError\u001b[0m                       Traceback (most recent call last)",
      "\u001b[1;32m<ipython-input-2-d2e4c87012f9>\u001b[0m in \u001b[0;36m<module>\u001b[1;34m\u001b[0m\n\u001b[1;32m----> 1\u001b[1;33m \u001b[1;32mimport\u001b[0m \u001b[0mspacy\u001b[0m\u001b[1;33m\u001b[0m\u001b[1;33m\u001b[0m\u001b[0m\n\u001b[0m\u001b[0;32m      2\u001b[0m \u001b[1;33m\u001b[0m\u001b[0m\n\u001b[0;32m      3\u001b[0m \u001b[1;31m# Load the NLP model\u001b[0m\u001b[1;33m\u001b[0m\u001b[1;33m\u001b[0m\u001b[1;33m\u001b[0m\u001b[0m\n\u001b[0;32m      4\u001b[0m \u001b[0mnlp\u001b[0m \u001b[1;33m=\u001b[0m \u001b[0mspacy\u001b[0m\u001b[1;33m.\u001b[0m\u001b[0mload\u001b[0m\u001b[1;33m(\u001b[0m\u001b[1;34m\"en_core_web_sm\"\u001b[0m\u001b[1;33m)\u001b[0m\u001b[1;33m\u001b[0m\u001b[1;33m\u001b[0m\u001b[0m\n\u001b[0;32m      5\u001b[0m \u001b[1;33m\u001b[0m\u001b[0m\n",
      "\u001b[1;31mModuleNotFoundError\u001b[0m: No module named 'spacy'"
     ]
    }
   ],
   "source": [
    "import spacy\n",
    "\n",
    "# Load the NLP model\n",
    "nlp = spacy.load(\"en_core_web_sm\")\n",
    "\n",
    "class KnowledgeBase:\n",
    "    def __init__(self):\n",
    "        self.concepts = {}\n",
    "        self.relationships = []\n",
    "\n",
    "    def add_concept(self, category, item):\n",
    "        if category not in self.concepts:\n",
    "            self.concepts[category] = []\n",
    "        if item not in self.concepts[category]:\n",
    "            self.concepts[category].append(item)\n",
    "\n",
    "    def add_relationship(self, subject, relation, obj):\n",
    "        self.relationships.append((subject, relation, obj))\n",
    "\n",
    "    def infer(self):\n",
    "        inferences = []\n",
    "        for subj, rel, obj in self.relationships:\n",
    "            if rel == \"needs to take\" and obj == \"medication\":\n",
    "                for s, r, o in self.relationships:\n",
    "                    if r == \"to avoid\" and o == \"stomach upset\":\n",
    "                        inferences.append(f\"{subj} should take {obj} with food to avoid stomach upset\")\n",
    "        return inferences\n",
    "\n",
    "def parse_statement(statement):\n",
    "    doc = nlp(statement)\n",
    "    entities = [(ent.text, ent.label_) for ent in doc.ents]\n",
    "    return entities\n",
    "\n",
    "def extract_relationships(statement):\n",
    "    doc = nlp(statement)\n",
    "    relationships = []\n",
    "    for token in doc:\n",
    "        if token.dep_ in (\"nsubj\", \"dobj\", \"prep\"):\n",
    "            subject = token.head.text\n",
    "            relation = token.dep_\n",
    "            obj = token.text\n",
    "            relationships.append((subject, relation, obj))\n",
    "    return relationships\n",
    "\n",
    "# Initialize the knowledge base\n",
    "kb = KnowledgeBase()\n",
    "\n",
    "# Input statements\n",
    "statements = [\n",
    "    \"Mrs. Smith needs to take her medication with food to avoid stomach upset.\",\n",
    "    \"John should exercise to stay healthy.\",\n",
    "    \"Mr. Pragnesh loves  to teach students\"\n",
    "    \n",
    "    \n",
    "]\n",
    "\n",
    "# Parse and extract concepts and relationships from statements\n",
    "for statement in statements:\n",
    "    print(f\"Processing statement: {statement}\")\n",
    "    concepts = parse_statement(statement)\n",
    "    relationships = extract_relationships(statement)\n",
    "    \n",
    "    print(f\"Extracted concepts: {concepts}\")\n",
    "    print(f\"Extracted relationships: {relationships}\")\n",
    "    \n",
    "    for concept, category in concepts:\n",
    "        kb.add_concept(category, concept)\n",
    "    \n",
    "    for subject, relation, obj in relationships:\n",
    "        kb.add_relationship(subject, relation, obj)\n",
    "\n",
    "# Perform inference\n",
    "inferences = kb.infer()\n",
    "\n",
    "for inference in inferences:\n",
    "    print(inference)\n"
   ]
  },
  {
   "cell_type": "code",
   "execution_count": null,
   "metadata": {},
   "outputs": [],
   "source": []
  },
  {
   "cell_type": "code",
   "execution_count": null,
   "metadata": {},
   "outputs": [],
   "source": []
  },
  {
   "cell_type": "code",
   "execution_count": null,
   "metadata": {},
   "outputs": [],
   "source": []
  },
  {
   "cell_type": "code",
   "execution_count": null,
   "metadata": {},
   "outputs": [],
   "source": []
  }
 ],
 "metadata": {
  "kernelspec": {
   "display_name": "Python 3",
   "language": "python",
   "name": "python3"
  },
  "language_info": {
   "codemirror_mode": {
    "name": "ipython",
    "version": 3
   },
   "file_extension": ".py",
   "mimetype": "text/x-python",
   "name": "python",
   "nbconvert_exporter": "python",
   "pygments_lexer": "ipython3",
   "version": "3.7.1"
  }
 },
 "nbformat": 4,
 "nbformat_minor": 5
}

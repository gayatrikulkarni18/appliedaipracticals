{
 "cells": [
  {
   "cell_type": "code",
   "execution_count": 4,
   "id": "9dc321af",
   "metadata": {},
   "outputs": [
    {
     "name": "stdout",
     "output_type": "stream",
     "text": [
      "Invalid operation.\n",
      "Result of 10 % 5 = None\n"
     ]
    }
   ],
   "source": [
    "class MathTutor:\n",
    "    def __init__(self):\n",
    "        self.operations = {\n",
    "            '+': lambda a, b: a + b,\n",
    "            '-': lambda a, b: a - b,\n",
    "            '*': lambda a, b: a * b,\n",
    "            '/': lambda a, b: a / b,\n",
    "        }\n",
    "\n",
    "    def explain_operation(self, operator):\n",
    "        explanation = {\n",
    "            '+': \"Addition adds two numbers together.\",\n",
    "            '-': \"Subtraction subtracts the second number from the first.\",\n",
    "            '*': \"Multiplication gives the product of two numbers.\",\n",
    "            '/': \"Division divides the first number by the second.\",\n",
    "        }\n",
    "        return explanation.get(operator, \"Invalid operation.\")\n",
    "\n",
    "    def perform_operation(self, operator, a, b):\n",
    "        if operator in self.operations:\n",
    "            return self.operations[operator](a, b)\n",
    "        else:\n",
    "            return None\n",
    "\n",
    "if __name__ == \"__main__\":\n",
    "    tutor = MathTutor()\n",
    "\n",
    "    # Example usage:\n",
    "    operator = '+'\n",
    "    a, b = 10, 5\n",
    "    print(tutor.explain_operation(operator))\n",
    "    \n",
    "    result = tutor.perform_operation(operator, a, b)\n",
    "    \n",
    "    print(f\"Result of {a} {operator} {b} = {result}\")\n"
   ]
  },
  {
   "cell_type": "code",
   "execution_count": null,
   "id": "f86a128d",
   "metadata": {},
   "outputs": [],
   "source": []
  },
  {
   "cell_type": "code",
   "execution_count": null,
   "id": "33a009e2",
   "metadata": {},
   "outputs": [],
   "source": []
  },
  {
   "cell_type": "code",
   "execution_count": null,
   "id": "5328de56",
   "metadata": {},
   "outputs": [],
   "source": []
  },
  {
   "cell_type": "code",
   "execution_count": null,
   "id": "0c3480a2",
   "metadata": {},
   "outputs": [],
   "source": []
  },
  {
   "cell_type": "code",
   "execution_count": null,
   "id": "c823dcb3",
   "metadata": {},
   "outputs": [],
   "source": []
  },
  {
   "cell_type": "code",
   "execution_count": null,
   "id": "f96ff53b",
   "metadata": {},
   "outputs": [],
   "source": []
  },
  {
   "cell_type": "code",
   "execution_count": null,
   "id": "7d40def3",
   "metadata": {},
   "outputs": [],
   "source": []
  },
  {
   "cell_type": "code",
   "execution_count": null,
   "id": "0da4bdc6",
   "metadata": {},
   "outputs": [],
   "source": []
  },
  {
   "cell_type": "code",
   "execution_count": null,
   "id": "00b4bcd9",
   "metadata": {},
   "outputs": [],
   "source": []
  },
  {
   "cell_type": "code",
   "execution_count": null,
   "id": "807a0a2b",
   "metadata": {},
   "outputs": [],
   "source": []
  },
  {
   "cell_type": "code",
   "execution_count": null,
   "id": "dca4ee15",
   "metadata": {},
   "outputs": [],
   "source": []
  },
  {
   "cell_type": "code",
   "execution_count": null,
   "id": "471cdaa0",
   "metadata": {},
   "outputs": [],
   "source": []
  },
  {
   "cell_type": "code",
   "execution_count": null,
   "id": "f8c4f5dc",
   "metadata": {},
   "outputs": [],
   "source": []
  },
  {
   "cell_type": "code",
   "execution_count": null,
   "id": "117a8a98",
   "metadata": {},
   "outputs": [],
   "source": []
  },
  {
   "cell_type": "code",
   "execution_count": null,
   "id": "9f810fcf",
   "metadata": {},
   "outputs": [],
   "source": []
  },
  {
   "cell_type": "code",
   "execution_count": null,
   "id": "0729076b",
   "metadata": {},
   "outputs": [],
   "source": []
  },
  {
   "cell_type": "code",
   "execution_count": null,
   "id": "e6a642bb",
   "metadata": {},
   "outputs": [],
   "source": []
  },
  {
   "cell_type": "code",
   "execution_count": null,
   "id": "aaca3d68",
   "metadata": {},
   "outputs": [],
   "source": []
  },
  {
   "cell_type": "code",
   "execution_count": null,
   "id": "4d5ccdfc",
   "metadata": {},
   "outputs": [],
   "source": []
  },
  {
   "cell_type": "code",
   "execution_count": null,
   "id": "925eeb82",
   "metadata": {},
   "outputs": [],
   "source": []
  },
  {
   "cell_type": "code",
   "execution_count": null,
   "id": "24ceab7d",
   "metadata": {},
   "outputs": [],
   "source": []
  },
  {
   "cell_type": "code",
   "execution_count": null,
   "id": "c5850ca0",
   "metadata": {},
   "outputs": [],
   "source": []
  },
  {
   "cell_type": "code",
   "execution_count": null,
   "id": "cd41e3ba",
   "metadata": {},
   "outputs": [],
   "source": []
  },
  {
   "cell_type": "code",
   "execution_count": null,
   "id": "52026931",
   "metadata": {},
   "outputs": [],
   "source": []
  },
  {
   "cell_type": "code",
   "execution_count": null,
   "id": "bd2814e4",
   "metadata": {},
   "outputs": [],
   "source": []
  },
  {
   "cell_type": "code",
   "execution_count": 9,
   "id": "66e480bf",
   "metadata": {},
   "outputs": [
    {
     "name": "stdout",
     "output_type": "stream",
     "text": [
      "Enter an operator (+, -, *, /): *\n",
      "Enter the first number: 34\n",
      "Enter the second number: 56\n",
      "Multiplication gives the product of two numbers.\n",
      "Result of 34.0 * 56.0 = 1904.0\n"
     ]
    }
   ],
   "source": [
    "class MathTutor:\n",
    "    def __init__(self):\n",
    "        self.operations = {\n",
    "            '+': lambda a, b: a + b,\n",
    "            '-': lambda a, b: a - b,\n",
    "            '*': lambda a, b: a * b,\n",
    "            '/': lambda a, b: a / b,\n",
    "        }\n",
    "\n",
    "    def explain_operation(self, operator):\n",
    "        explanation = {\n",
    "            '+': \"Addition adds two numbers together.\",\n",
    "            '-': \"Subtraction subtracts the second number from the first.\",\n",
    "            '*': \"Multiplication gives the product of two numbers.\",\n",
    "            '/': \"Division divides the first number by the second.\",\n",
    "        }\n",
    "        return explanation.get(operator, \"Invalid operation.\")\n",
    "\n",
    "    def perform_operation(self, operator, a, b):\n",
    "        if operator in self.operations:\n",
    "            return self.operations[operator](a, b)\n",
    "        else:\n",
    "            return None\n",
    "\n",
    "if __name__ == \"__main__\":\n",
    "    tutor = MathTutor()\n",
    "\n",
    "    # Get user input for the operator\n",
    "    operator = input(\"Enter an operator (+, -, *, /): \").strip()\n",
    "    \n",
    "    # Get user input for the numbers\n",
    "    try:\n",
    "        a = float(input(\"Enter the first number: \").strip())\n",
    "        b = float(input(\"Enter the second number: \").strip())\n",
    "        \n",
    "        # Explain the operation\n",
    "        explanation = tutor.explain_operation(operator)\n",
    "        print(explanation)\n",
    "        \n",
    "        # Perform the operation\n",
    "        result = tutor.perform_operation(operator, a, b)\n",
    "        \n",
    "        if result is not None:\n",
    "            print(f\"Result of {a} {operator} {b} = {result}\")\n",
    "        else:\n",
    "            print(\"Invalid operation.\")\n",
    "            \n",
    "    except ValueError:\n",
    "        print(\"Please enter valid numbers.\")\n"
   ]
  },
  {
   "cell_type": "code",
   "execution_count": null,
   "id": "9154dfce",
   "metadata": {},
   "outputs": [],
   "source": []
  }
 ],
 "metadata": {
  "kernelspec": {
   "display_name": "Python 3 (ipykernel)",
   "language": "python",
   "name": "python3"
  },
  "language_info": {
   "codemirror_mode": {
    "name": "ipython",
    "version": 3
   },
   "file_extension": ".py",
   "mimetype": "text/x-python",
   "name": "python",
   "nbconvert_exporter": "python",
   "pygments_lexer": "ipython3",
   "version": "3.12.4"
  }
 },
 "nbformat": 4,
 "nbformat_minor": 5
}

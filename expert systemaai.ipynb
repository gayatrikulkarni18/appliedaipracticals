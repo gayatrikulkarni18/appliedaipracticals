{
 "cells": [
  {
   "cell_type": "code",
   "execution_count": 5,
   "metadata": {},
   "outputs": [
    {
     "name": "stdout",
     "output_type": "stream",
     "text": [
      "Division divides the first number by the second.\n",
      "Result of 10 / 5 = 2.0\n",
      "Gayatri Kulkarni-53004230002\n"
     ]
    }
   ],
   "source": [
    "class MathTutor:\n",
    "    def __init__(self):\n",
    "        self.operations = {\n",
    "            '+': lambda a, b: a + b,\n",
    "            '-': lambda a, b: a - b,\n",
    "            '*': lambda a, b: a * b,\n",
    "            '/': lambda a, b: a / b,\n",
    "        }\n",
    "\n",
    "    def explain_operation(self, operator):\n",
    "        explanation = {\n",
    "            '+': \"Addition adds two numbers together.\",\n",
    "            '-': \"Subtraction subtracts the second number from the first.\",\n",
    "            '*': \"Multiplication gives the product of two numbers.\",\n",
    "            '/': \"Division divides the first number by the second.\",\n",
    "        }\n",
    "        return explanation.get(operator, \"Invalid operation.\")\n",
    "\n",
    "    def perform_operation(self, operator, a, b):\n",
    "        if operator in self.operations:\n",
    "            return self.operations[operator](a, b)\n",
    "        else:\n",
    "            return None\n",
    "\n",
    "if __name__ == \"__main__\":\n",
    "    tutor = MathTutor()\n",
    "\n",
    "    # Example usage:\n",
    "    operator = '/'\n",
    "    a, b = 10, 5\n",
    "    print(tutor.explain_operation(operator))\n",
    "    \n",
    "    result = tutor.perform_operation(operator, a, b)\n",
    "    \n",
    "    print(f\"Result of {a} {operator} {b} = {result}\")\n",
    "\n",
    "print('Gayatri Kulkarni-53004230002')\n"
   ]
  },
  {
   "cell_type": "code",
   "execution_count": null,
   "metadata": {},
   "outputs": [],
   "source": []
  }
 ],
 "metadata": {
  "kernelspec": {
   "display_name": "Python 3",
   "language": "python",
   "name": "python3"
  },
  "language_info": {
   "codemirror_mode": {
    "name": "ipython",
    "version": 3
   },
   "file_extension": ".py",
   "mimetype": "text/x-python",
   "name": "python",
   "nbconvert_exporter": "python",
   "pygments_lexer": "ipython3",
   "version": "3.7.1"
  }
 },
 "nbformat": 4,
 "nbformat_minor": 2
}
